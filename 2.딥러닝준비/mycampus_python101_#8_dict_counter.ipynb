{
 "cells": [
  {
   "cell_type": "markdown",
   "metadata": {},
   "source": [
    "#  딥러닝 프로그래밍 빠르게 배우기 (마이캠퍼스)\n",
    "## https://pg.mycampus.io/?idx=97\n",
    "\n",
    "* 질문/문의: 마이캠퍼스 한대희 , daehee@mycampus.io, 010-2101-0255"
   ]
  },
  {
   "cell_type": "markdown",
   "metadata": {},
   "source": [
    "# dict, dictionary - key에 의한 index ( java의 Hash map)"
   ]
  },
  {
   "cell_type": "code",
   "execution_count": 6,
   "metadata": {},
   "outputs": [
    {
     "name": "stdout",
     "output_type": "stream",
     "text": [
      "{'Joel': 80, 'Tim': 95}\n",
      "95\n",
      "{'Joel': 100, 'Tim': 95}\n"
     ]
    }
   ],
   "source": [
    "grades = { \"Joel\" : 80, \"Tim\" : 95 } # dictionary literal\n",
    "print(grades)\n",
    "print(grades['Tim'])\n",
    "grades['Joel'] = 100\n",
    "print(grades)\n"
   ]
  },
  {
   "cell_type": "code",
   "execution_count": 7,
   "metadata": {},
   "outputs": [],
   "source": [
    "# 'Taeree' 가 없으므로 아래를 실행하면 'KeyError' 오류 발생.\n",
    "# print(grades['Taeree'])"
   ]
  },
  {
   "cell_type": "markdown",
   "metadata": {},
   "source": [
    "### dict 에서 존재하지 않는 key에 대한 default값 지정하기\n",
    "#### get()"
   ]
  },
  {
   "cell_type": "code",
   "execution_count": 8,
   "metadata": {},
   "outputs": [
    {
     "name": "stdout",
     "output_type": "stream",
     "text": [
      "100\n"
     ]
    },
    {
     "data": {
      "text/plain": [
       "2"
      ]
     },
     "execution_count": 8,
     "metadata": {},
     "output_type": "execute_result"
    }
   ],
   "source": [
    "print(grades.get('Taeree', 100)) # get(): 없는 key값 -> 디폴트 값을 적용\n",
    "len(grades)"
   ]
  },
  {
   "cell_type": "code",
   "execution_count": 9,
   "metadata": {},
   "outputs": [
    {
     "name": "stdout",
     "output_type": "stream",
     "text": [
      "dict_keys(['Joel', 'Tim'])\n",
      "dict_values([100, 95])\n",
      "dict_items([('Joel', 100), ('Tim', 95)])\n"
     ]
    }
   ],
   "source": [
    "print(grades.keys())\n",
    "print(grades.values())\n",
    "print(grades.items())"
   ]
  },
  {
   "cell_type": "markdown",
   "metadata": {},
   "source": [
    "# Word Counter 구현 방법 4가지 !!"
   ]
  },
  {
   "cell_type": "code",
   "execution_count": 10,
   "metadata": {},
   "outputs": [
    {
     "data": {
      "text/plain": [
       "0"
      ]
     },
     "execution_count": 10,
     "metadata": {},
     "output_type": "execute_result"
    }
   ],
   "source": [
    "int() # int() --> 0"
   ]
  },
  {
   "cell_type": "code",
   "execution_count": 11,
   "metadata": {},
   "outputs": [
    {
     "data": {
      "text/plain": [
       "[]"
      ]
     },
     "execution_count": 11,
     "metadata": {},
     "output_type": "execute_result"
    }
   ],
   "source": [
    "list() #"
   ]
  },
  {
   "cell_type": "code",
   "execution_count": 12,
   "metadata": {},
   "outputs": [
    {
     "data": {
      "text/plain": [
       "{}"
      ]
     },
     "execution_count": 12,
     "metadata": {},
     "output_type": "execute_result"
    }
   ],
   "source": [
    "dict()"
   ]
  },
  {
   "cell_type": "markdown",
   "metadata": {},
   "source": [
    "## 방법1 - python dict (if/else 이용)"
   ]
  },
  {
   "cell_type": "code",
   "execution_count": 13,
   "metadata": {},
   "outputs": [
    {
     "name": "stdout",
     "output_type": "stream",
     "text": [
      "aa 3\n",
      "a 1\n",
      "bbb 2\n",
      "c 1\n"
     ]
    }
   ],
   "source": [
    "document = ['aa', 'a', 'bbb', 'bbb', 'aa', 'c', 'aa']\n",
    "\n",
    "def way1():\n",
    "  word_counts = {}\n",
    "\n",
    "  for word in document:\n",
    "    if word not in word_counts: # 처음 나타난 단어일 때\n",
    "      word_counts[word] = 1\n",
    "    else:\n",
    "      word_counts[word] += 1\n",
    "  for k, v in word_counts.items():\n",
    "    print(k, v)\n",
    "\n",
    "way1()\n"
   ]
  },
  {
   "cell_type": "markdown",
   "metadata": {},
   "source": [
    "## 방법2 - python dict (try/except 이용)"
   ]
  },
  {
   "cell_type": "code",
   "execution_count": 14,
   "metadata": {},
   "outputs": [
    {
     "name": "stdout",
     "output_type": "stream",
     "text": [
      "aa 3\n",
      "a 1\n",
      "bbb 2\n",
      "c 1\n"
     ]
    }
   ],
   "source": [
    "def way2():\n",
    "  word_counts = {}\n",
    "  for word in document:\n",
    "    try:\n",
    "      word_counts[word] += 1\n",
    "    except KeyError:\n",
    "      word_counts[word] = 1\n",
    "  for k,v in word_counts.items():\n",
    "    print(k, v)\n",
    "\n",
    "way2()"
   ]
  },
  {
   "cell_type": "markdown",
   "metadata": {},
   "source": [
    "## 방법3 - python dict (get() 이용)"
   ]
  },
  {
   "cell_type": "code",
   "execution_count": 15,
   "metadata": {},
   "outputs": [
    {
     "name": "stdout",
     "output_type": "stream",
     "text": [
      "aa 3\n",
      "a 1\n",
      "bbb 2\n",
      "c 1\n"
     ]
    }
   ],
   "source": [
    "def way3():\n",
    "  word_counts = {}\n",
    "  for word in document:\n",
    "    word_counts[word] = word_counts.get(word, 0) + 1\n",
    "  for k,v in word_counts.items():\n",
    "    print(k, v)\n",
    "\n",
    "way3()"
   ]
  },
  {
   "cell_type": "markdown",
   "metadata": {},
   "source": [
    "### 방법4 -  defaultdict 이용"
   ]
  },
  {
   "cell_type": "code",
   "execution_count": 16,
   "metadata": {},
   "outputs": [
    {
     "name": "stdout",
     "output_type": "stream",
     "text": [
      "aa 3\n",
      "a 1\n",
      "bbb 2\n",
      "c 1\n"
     ]
    }
   ],
   "source": [
    "def way4():\n",
    "  from collections import defaultdict\n",
    "  word_counts = defaultdict(int)  # int() --> 0\n",
    "  for word in document:\n",
    "    word_counts[word] += 1\n",
    "  for k,v in word_counts.items():\n",
    "    print(k, v)\n",
    "\n",
    "way4()"
   ]
  },
  {
   "cell_type": "markdown",
   "metadata": {},
   "source": [
    "## 방법4 -  defaultdict 이용하여 count가 아닌 목록 만들기"
   ]
  },
  {
   "cell_type": "code",
   "execution_count": 17,
   "metadata": {},
   "outputs": [
    {
     "name": "stdout",
     "output_type": "stream",
     "text": [
      "aa [0, 4, 6]\n",
      "a [1]\n",
      "bbb [2, 3]\n",
      "c [5]\n"
     ]
    }
   ],
   "source": [
    "def way_list():\n",
    "  from collections import defaultdict\n",
    "  word_list = defaultdict(list)  # list() --> [] \n",
    "  for i, word in enumerate(document):\n",
    "    word_list[word].append(i)\n",
    "    \n",
    "  for k,v in word_list.items():\n",
    "    print(k, v)\n",
    "\n",
    "way_list()"
   ]
  },
  {
   "cell_type": "markdown",
   "metadata": {},
   "source": [
    "### 방법5 -  collections.Counter 이용"
   ]
  },
  {
   "cell_type": "code",
   "execution_count": 18,
   "metadata": {},
   "outputs": [
    {
     "name": "stdout",
     "output_type": "stream",
     "text": [
      "aa 3\n",
      "a 1\n",
      "bbb 2\n",
      "c 1\n",
      "[('aa', 3), ('bbb', 2)]\n"
     ]
    }
   ],
   "source": [
    "def way5():\n",
    "  from collections import Counter\n",
    "  word_counts = Counter(document)  \n",
    "  for k,v in word_counts.items():\n",
    "    print(k, v)\n",
    "  print(word_counts.most_common(2))\n",
    "way5()\n"
   ]
  },
  {
   "cell_type": "markdown",
   "metadata": {},
   "source": [
    "## class 정의 예시. 기본 클래스 dict를 상속 "
   ]
  },
  {
   "cell_type": "code",
   "execution_count": 19,
   "metadata": {},
   "outputs": [
    {
     "name": "stdout",
     "output_type": "stream",
     "text": [
      "=== prn2 (키값의 순서)\n",
      "a 1\n",
      "aaa 3\n",
      "bb 2\n",
      "=== prn3 (갯수로 소팅)\n",
      "[('bb', 2), ('a', 1), ('aaa', 3)]\n",
      "aaa 3\n",
      "bb 2\n",
      "a 1\n"
     ]
    }
   ],
   "source": [
    "class mydict(dict):\n",
    "    def __init__(self):\n",
    "        pass\n",
    "    \n",
    "    def add(self, word):\n",
    "        self[word] = self.get(word, 0) + 1\n",
    "        \n",
    "    def prn(self):\n",
    "        for k,v in self.items():\n",
    "            print(k,v)\n",
    "    def prn2(self):\n",
    "        print('=== prn2 (키값의 순서)')\n",
    "        for k in sorted(self.keys()):\n",
    "            print(k, self[k])\n",
    "    def prn3(self):\n",
    "        print('=== prn3 (갯수로 소팅)')\n",
    "        print(list(self.items()))\n",
    "        for k, v in sorted(self.items(), key=lambda x:x[1], reverse=True):\n",
    "            print(k, v)        \n",
    "\n",
    "mycount = mydict()\n",
    "mycount.add('bb')\n",
    "mycount.add('a')\n",
    "mycount.add('aaa')\n",
    "mycount.add('bb')\n",
    "mycount.add('aaa')\n",
    "mycount.add('aaa')\n",
    "mycount.prn2()\n",
    "mycount.prn3()"
   ]
  },
  {
   "cell_type": "code",
   "execution_count": null,
   "metadata": {},
   "outputs": [],
   "source": []
  }
 ],
 "metadata": {
  "kernelspec": {
   "display_name": "Python 3",
   "language": "python",
   "name": "python3"
  },
  "language_info": {
   "codemirror_mode": {
    "name": "ipython",
    "version": 3
   },
   "file_extension": ".py",
   "mimetype": "text/x-python",
   "name": "python",
   "nbconvert_exporter": "python",
   "pygments_lexer": "ipython3",
   "version": "3.7.3"
  },
  "toc": {
   "base_numbering": 1,
   "nav_menu": {},
   "number_sections": true,
   "sideBar": true,
   "skip_h1_title": false,
   "title_cell": "Table of Contents",
   "title_sidebar": "Contents",
   "toc_cell": false,
   "toc_position": {},
   "toc_section_display": true,
   "toc_window_display": false
  }
 },
 "nbformat": 4,
 "nbformat_minor": 1
}
