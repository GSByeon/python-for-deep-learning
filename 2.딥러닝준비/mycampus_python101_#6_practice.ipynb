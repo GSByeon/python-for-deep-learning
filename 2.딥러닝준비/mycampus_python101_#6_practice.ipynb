{
 "cells": [
  {
   "cell_type": "markdown",
   "metadata": {
    "colab_type": "text",
    "id": "NZgmDHVrq_kt"
   },
   "source": [
    "#  딥러닝 프로그래밍 빠르게 배우기 (마이캠퍼스)\n",
    "## https://pg.mycampus.io/?idx=97\n",
    "\n",
    "* 질문/문의: 마이캠퍼스 한대희 , daehee@mycampus.io, 010-2101-0255"
   ]
  },
  {
   "cell_type": "markdown",
   "metadata": {
    "colab_type": "text",
    "id": "8ttl3UezFJzJ"
   },
   "source": [
    "## 평균, 분산, 공분산 구하기\n",
    "* 3**2 -->  3의 2승을 의미함 --> 즉, 9가 됨.\n",
    "* X의 분산: (X - X평균)**2 \n",
    "* X, Y 공분산: (X - X평균) * (Y - Y평균)"
   ]
  },
  {
   "cell_type": "code",
   "execution_count": 2,
   "metadata": {
    "colab": {
     "base_uri": "https://localhost:8080/",
     "height": 52
    },
    "colab_type": "code",
    "id": "Dp0aNM3ZHhSx",
    "outputId": "872a798a-28ce-491f-ad63-a85a18e62836"
   },
   "outputs": [
    {
     "name": "stdout",
     "output_type": "stream",
     "text": [
      "9\n",
      "25\n"
     ]
    }
   ],
   "source": [
    "print(3**2)\n",
    "a = 5\n",
    "print(a**2)"
   ]
  },
  {
   "cell_type": "code",
   "execution_count": 0,
   "metadata": {
    "colab": {},
    "colab_type": "code",
    "id": "ypmyqPO7FJzK"
   },
   "outputs": [],
   "source": [
    "import math\n",
    "import matplotlib.pyplot as plt\n",
    "\n",
    "X = [100,200,300,400,500] \n",
    "Y = [30, 57, 76, 140, 197]"
   ]
  },
  {
   "cell_type": "code",
   "execution_count": 4,
   "metadata": {
    "colab": {
     "base_uri": "https://localhost:8080/",
     "height": 104
    },
    "colab_type": "code",
    "id": "oFURLSw3FJzN",
    "outputId": "75ecbe4d-674d-4b5c-852c-1bec48a18f2b"
   },
   "outputs": [
    {
     "name": "stdout",
     "output_type": "stream",
     "text": [
      "100 30\n",
      "200 57\n",
      "300 76\n",
      "400 140\n",
      "500 197\n"
     ]
    }
   ],
   "source": [
    "for x, y in ???(X, Y): # zip()\n",
    "  print(x, y)"
   ]
  },
  {
   "cell_type": "code",
   "execution_count": 6,
   "metadata": {
    "colab": {
     "base_uri": "https://localhost:8080/",
     "height": 269
    },
    "colab_type": "code",
    "id": "HHuWhxNqFJzS",
    "outputId": "6dabf1de-94a9-4066-df61-585e4d3c82fd"
   },
   "outputs": [
    {
     "data": {
      "image/png": "[encoded data removed]",
      "text/plain": [
       "<Figure size 432x288 with 1 Axes>"
      ]
     },
     "metadata": {
      "tags": []
     },
     "output_type": "display_data"
    }
   ],
   "source": [
    "fig, ax = plt.subplots()\n",
    "ax.plot(X, Y)\n",
    "ax.scatter(X, Y)\n",
    "plt.show()"
   ]
  },
  {
   "cell_type": "markdown",
   "metadata": {
    "colab_type": "text",
    "id": "LlWPb14AFJzV"
   },
   "source": [
    "### 평균 (mean) 구하기"
   ]
  },
  {
   "cell_type": "code",
   "execution_count": 8,
   "metadata": {
    "colab": {
     "base_uri": "https://localhost:8080/",
     "height": 35
    },
    "colab_type": "code",
    "id": "dXNLhsmHFJzW",
    "outputId": "a5090f06-44dc-411c-d529-105787d163a8"
   },
   "outputs": [
    {
     "name": "stdout",
     "output_type": "stream",
     "text": [
      "평균 300.0 100.0\n"
     ]
    }
   ],
   "source": [
    "X_mean = float(sum(X) / ???(X)) # 평균: 합계 / 개수.  sum(X) / len(X)\n",
    "Y_mean = float(???(Y) / len(Y)) # 평균: 합계 / 개수.  sum(Y) / len(Y)\n",
    "print('평균', X_mean, Y_mean)\n"
   ]
  },
  {
   "cell_type": "markdown",
   "metadata": {
    "colab_type": "text",
    "id": "SZEsSSq_FJzZ"
   },
   "source": [
    "### 분산값 구하기"
   ]
  },
  {
   "cell_type": "code",
   "execution_count": 11,
   "metadata": {
    "colab": {
     "base_uri": "https://localhost:8080/",
     "height": 35
    },
    "colab_type": "code",
    "id": "0fQ9pmA4FJza",
    "outputId": "40b62755-37cc-499b-8d63-e5d8cfacaec0"
   },
   "outputs": [
    {
     "name": "stdout",
     "output_type": "stream",
     "text": [
      "X 분산(variance) 20000.0\n"
     ]
    }
   ],
   "source": [
    "# list comprehension 이용\n",
    "# X의 분산: (X - X평균)**2\n",
    "vars = [(x - ???)**2 for ? in X] # (x - X_mean)**2 for x in X\n",
    "X_variance = sum(vars) / ???(vars) # sum(vars) / len(vars)\n",
    "print('X 분산(variance)', X_variance)"
   ]
  },
  {
   "cell_type": "markdown",
   "metadata": {
    "colab_type": "text",
    "id": "ZeZ3-0PWFJzc"
   },
   "source": [
    "### 공분산(covariance)구하기"
   ]
  },
  {
   "cell_type": "code",
   "execution_count": 12,
   "metadata": {
    "colab": {
     "base_uri": "https://localhost:8080/",
     "height": 35
    },
    "colab_type": "code",
    "id": "vNtkaiRlFJzd",
    "outputId": "c331babb-f870-4b01-a5d5-42eba5d35a01"
   },
   "outputs": [
    {
     "name": "stdout",
     "output_type": "stream",
     "text": [
      "X,Y 공분산(covariance) 8340.0\n"
     ]
    }
   ],
   "source": [
    "covars = [ (x - X_mean) * (y - ???) for ?, ? in zip(X, Y)] # (x - X_mean) * (y - Y_mean) for x, y in zip(X, Y)\n",
    "covariance = ???(covars) /  len(covars) # sum(covars) /  len(covars)\n",
    "print('X,Y 공분산(covariance)', covariance)"
   ]
  },
  {
   "cell_type": "markdown",
   "metadata": {
    "colab_type": "text",
    "id": "ebWAVqwZFJzg"
   },
   "source": [
    "### 통계적 방법으로 기울기(W), y절편(B)구하기"
   ]
  },
  {
   "cell_type": "code",
   "execution_count": 13,
   "metadata": {
    "colab": {
     "base_uri": "https://localhost:8080/",
     "height": 35
    },
    "colab_type": "code",
    "id": "aR3jshzZFJzi",
    "outputId": "509926b8-e895-40d8-d2c0-530ea85fb724"
   },
   "outputs": [
    {
     "name": "stdout",
     "output_type": "stream",
     "text": [
      "W 0.417\n"
     ]
    }
   ],
   "source": [
    "# W = (X,Y의 covariance) / (X의 분산)\n",
    "W = float(covariance / X_variance)\n",
    "print('W', W)\n"
   ]
  },
  {
   "cell_type": "code",
   "execution_count": 14,
   "metadata": {
    "colab": {
     "base_uri": "https://localhost:8080/",
     "height": 35
    },
    "colab_type": "code",
    "id": "ItUezlzSFJzm",
    "outputId": "15678146-c15e-4793-d173-2fb24ee46663"
   },
   "outputs": [
    {
     "name": "stdout",
     "output_type": "stream",
     "text": [
      "B -25.099999999999994\n"
     ]
    }
   ],
   "source": [
    "# y = W * X + B 에서 W는 구함. Y는 Y의 평균, X는 X의 평균을 대입하자.\n",
    "# B = Y - W * X\n",
    "B = Y_mean - W * X_mean\n",
    "print('B', B)"
   ]
  },
  {
   "cell_type": "markdown",
   "metadata": {
    "colab_type": "text",
    "id": "xOE3FK6dFJzp"
   },
   "source": [
    "### 통계적 방법으로 도출한 모델로 카드사용량 예측하기"
   ]
  },
  {
   "cell_type": "code",
   "execution_count": 16,
   "metadata": {
    "colab": {
     "base_uri": "https://localhost:8080/",
     "height": 52
    },
    "colab_type": "code",
    "id": "pHSdYURXFJzp",
    "outputId": "c63cf994-cb10-4ea5-80d6-4f7309e73d5a"
   },
   "outputs": [
    {
     "name": "stdout",
     "output_type": "stream",
     "text": [
      "원래의 Y [30, 57, 76, 140, 197]\n",
      "모델의 Y [16.6, 58.3, 100.0, 141.7, 183.4]\n"
     ]
    }
   ],
   "source": [
    "Y2 = [B + W * x for x in X]\n",
    "print('원래의 Y', Y)\n",
    "print('모델의 Y', Y2)"
   ]
  },
  {
   "cell_type": "code",
   "execution_count": 17,
   "metadata": {
    "colab": {
     "base_uri": "https://localhost:8080/",
     "height": 104
    },
    "colab_type": "code",
    "id": "YBTTtwLFFJzs",
    "outputId": "e1345791-abac-44a2-96aa-d9f2a934dd33"
   },
   "outputs": [
    {
     "name": "stdout",
     "output_type": "stream",
     "text": [
      "30 16.6\n",
      "57 58.3\n",
      "76 100.0\n",
      "140 141.7\n",
      "197 183.4\n"
     ]
    }
   ],
   "source": [
    "for y, y2 in zip(Y, Y2):\n",
    "    print(y, y2)"
   ]
  },
  {
   "cell_type": "code",
   "execution_count": 20,
   "metadata": {
    "colab": {
     "base_uri": "https://localhost:8080/",
     "height": 284
    },
    "colab_type": "code",
    "id": "rN_nEzH6FJzz",
    "outputId": "174601b1-ab6c-47d0-80cc-eb4dbbe0f90a"
   },
   "outputs": [
    {
     "data": {
      "image/png": "[encoded data removed]",
      "text/plain": [
       "<Figure size 432x288 with 1 Axes>"
      ]
     },
     "metadata": {
      "tags": []
     },
     "output_type": "display_data"
    }
   ],
   "source": [
    "fig, ax = plt.subplots()\n",
    "ax.plot(X, Y, label='Real')\n",
    "ax.plot(X, Y2, label='Model')\n",
    "ax.scatter(X, Y, c='blue')\n",
    "ax.scatter(X, Y2, c='red')\n",
    "ax.set_xlabel('X')\n",
    "ax.set_ylabel('Y')\n",
    "plt.legend()\n",
    "plt.show()"
   ]
  },
  {
   "cell_type": "code",
   "execution_count": 0,
   "metadata": {
    "colab": {},
    "colab_type": "code",
    "id": "N4b9biTxJieX"
   },
   "outputs": [],
   "source": []
  }
 ],
 "metadata": {
  "accelerator": "GPU",
  "colab": {
   "collapsed_sections": [],
   "name": "python_practice1_var_cov.ipynb",
   "provenance": [],
   "version": "0.3.2"
  },
  "kernelspec": {
   "display_name": "Python 3",
   "language": "python",
   "name": "python3"
  },
  "language_info": {
   "codemirror_mode": {
    "name": "ipython",
    "version": 3
   },
   "file_extension": ".py",
   "mimetype": "text/x-python",
   "name": "python",
   "nbconvert_exporter": "python",
   "pygments_lexer": "ipython3",
   "version": "3.7.3"
  },
  "toc": {
   "base_numbering": 1,
   "nav_menu": {},
   "number_sections": true,
   "sideBar": true,
   "skip_h1_title": false,
   "title_cell": "Table of Contents",
   "title_sidebar": "Contents",
   "toc_cell": false,
   "toc_position": {},
   "toc_section_display": true,
   "toc_window_display": false
  }
 },
 "nbformat": 4,
 "nbformat_minor": 1
}
