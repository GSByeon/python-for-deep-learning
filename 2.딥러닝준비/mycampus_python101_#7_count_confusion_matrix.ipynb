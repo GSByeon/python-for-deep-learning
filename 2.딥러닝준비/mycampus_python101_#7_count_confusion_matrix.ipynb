{
 "cells": [
  {
   "cell_type": "markdown",
   "metadata": {},
   "source": [
    "#  딥러닝 프로그래밍 빠르게 배우기 (마이캠퍼스)\n",
    "## https://pg.mycampus.io/?idx=97\n",
    "\n",
    "* 질문/문의: 마이캠퍼스 한대희 , daehee@mycampus.io, 010-2101-0255"
   ]
  },
  {
   "cell_type": "code",
   "execution_count": 2,
   "metadata": {},
   "outputs": [],
   "source": [
    "from collections import defaultdict\n",
    "from collections import Counter"
   ]
  },
  {
   "cell_type": "code",
   "execution_count": 3,
   "metadata": {},
   "outputs": [],
   "source": [
    "import random"
   ]
  },
  {
   "cell_type": "code",
   "execution_count": 14,
   "metadata": {},
   "outputs": [
    {
     "name": "stdout",
     "output_type": "stream",
     "text": [
      "1\n",
      "0\n",
      "0\n",
      "0\n",
      "1\n",
      "1\n",
      "0\n",
      "1\n",
      "0\n",
      "0\n"
     ]
    }
   ],
   "source": [
    "for i in range(10):\n",
    "    print( random.randint(0,1) )"
   ]
  },
  {
   "cell_type": "code",
   "execution_count": 15,
   "metadata": {},
   "outputs": [
    {
     "name": "stdout",
     "output_type": "stream",
     "text": [
      "건강\n",
      "건강\n",
      "암\n",
      "암\n",
      "암\n",
      "암\n",
      "건강\n",
      "암\n",
      "암\n",
      "건강\n"
     ]
    }
   ],
   "source": [
    "names = ['건강', '암']\n",
    "for i in range(10):\n",
    "    d = random.randint(0,1)\n",
    "    print( names[d]  )"
   ]
  },
  {
   "cell_type": "markdown",
   "metadata": {},
   "source": [
    "### 암진단 (예측값, 실제값) 랜덤으로 데이터 생성\n",
    "0은 암아님. 1은 암을 의미\n"
   ]
  },
  {
   "cell_type": "code",
   "execution_count": 6,
   "metadata": {},
   "outputs": [
    {
     "name": "stdout",
     "output_type": "stream",
     "text": [
      "[(0, 1), (1, 0), (0, 1), (1, 0), (1, 0), (0, 1), (0, 0), (0, 0), (0, 1), (1, 1), (1, 1), (1, 1), (1, 1), (1, 0), (1, 0), (1, 0), (1, 0), (0, 0), (0, 1), (1, 1)]\n"
     ]
    }
   ],
   "source": [
    "data = [ ( random.randint(0,1) , random.randint(0,1) ) for i in range(20)]\n",
    "print(data)"
   ]
  },
  {
   "cell_type": "code",
   "execution_count": 7,
   "metadata": {},
   "outputs": [
    {
     "name": "stdout",
     "output_type": "stream",
     "text": [
      "예측  |  실제\n",
      "------------\n",
      "건강 \t 암\n",
      "암 \t 건강\n",
      "건강 \t 암\n",
      "암 \t 건강\n",
      "암 \t 건강\n",
      "건강 \t 암\n",
      "건강 \t 건강\n",
      "건강 \t 건강\n",
      "건강 \t 암\n",
      "암 \t 암\n",
      "암 \t 암\n",
      "암 \t 암\n",
      "암 \t 암\n",
      "암 \t 건강\n",
      "암 \t 건강\n",
      "암 \t 건강\n",
      "암 \t 건강\n",
      "건강 \t 건강\n",
      "건강 \t 암\n",
      "암 \t 암\n"
     ]
    }
   ],
   "source": [
    "data2 = [ (names[y_pred], names[y_real])  for y_pred, y_real in data]\n",
    "print('예측  |  실제')\n",
    "print('------------')\n",
    "for y_pred, y_real in data2:\n",
    "    print(y_pred,'\\t',y_real)"
   ]
  },
  {
   "cell_type": "code",
   "execution_count": 8,
   "metadata": {},
   "outputs": [],
   "source": [
    "cnt = Counter(data)"
   ]
  },
  {
   "cell_type": "code",
   "execution_count": 9,
   "metadata": {},
   "outputs": [
    {
     "name": "stdout",
     "output_type": "stream",
     "text": [
      "Counter({(1, 0): 7, (0, 1): 5, (1, 1): 5, (0, 0): 3})\n"
     ]
    }
   ],
   "source": [
    "print(cnt)"
   ]
  },
  {
   "cell_type": "code",
   "execution_count": 12,
   "metadata": {},
   "outputs": [],
   "source": [
    "# TP, FN, TN, FP\n",
    "TP = cnt[(1, 1)]\n",
    "FN = cnt[(0, 1)]\n",
    "TN = cnt[(0, 0)] # TN\n",
    "FP = cnt[(1, 0)] # FP"
   ]
  },
  {
   "cell_type": "code",
   "execution_count": 13,
   "metadata": {},
   "outputs": [
    {
     "name": "stdout",
     "output_type": "stream",
     "text": [
      "\n",
      "TP : 5  FN : 5  TN : 3  FP : 7\n",
      "Recall: 0.500, Precision: 0.417, Acc: 0.400\n"
     ]
    }
   ],
   "source": [
    "Acc = (TP + TN) / (TP + TN + FP + FN)\n",
    "try:\n",
    "    Precision = TP / (TP + FP)\n",
    "except: # 학습초기에 decision by zero 발생 가능 (범죄라고 판단한 건수가 zero인 상황\n",
    "    Precision = 0\n",
    "\n",
    "try:\n",
    "    Recall = TP / (TP + FN)\n",
    "except:\n",
    "    Recall = 0\n",
    "\n",
    "print('\\nTP :', TP, ' FN :',FN , ' TN :', TN, ' FP :', FP)\n",
    "print('Recall: %.3f, Precision: %.3f, Acc: %.3f' % (Recall, Precision, Acc))"
   ]
  },
  {
   "cell_type": "code",
   "execution_count": null,
   "metadata": {},
   "outputs": [],
   "source": []
  }
 ],
 "metadata": {
  "kernelspec": {
   "display_name": "Python 3",
   "language": "python",
   "name": "python3"
  },
  "language_info": {
   "codemirror_mode": {
    "name": "ipython",
    "version": 3
   },
   "file_extension": ".py",
   "mimetype": "text/x-python",
   "name": "python",
   "nbconvert_exporter": "python",
   "pygments_lexer": "ipython3",
   "version": "3.7.3"
  },
  "toc": {
   "base_numbering": 1,
   "nav_menu": {},
   "number_sections": true,
   "sideBar": true,
   "skip_h1_title": false,
   "title_cell": "Table of Contents",
   "title_sidebar": "Contents",
   "toc_cell": false,
   "toc_position": {},
   "toc_section_display": true,
   "toc_window_display": false
  }
 },
 "nbformat": 4,
 "nbformat_minor": 1
}
