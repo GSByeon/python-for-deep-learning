{
 "cells": [
  {
   "cell_type": "markdown",
   "metadata": {
    "colab_type": "text",
    "id": "hH4LfqPIIn9N"
   },
   "source": [
    "#  딥러닝 프로그래밍 빠르게 배우기 (마이캠퍼스)\n",
    "## https://pg.mycampus.io/?idx=97\n",
    "\n",
    "* 질문/문의: 마이캠퍼스 한대희 , daehee@mycampus.io, 010-2101-0255\n",
    "\n",
    "## 이 파일의 목차 \n",
    "* split()\n",
    "* startswith()\n",
    "* endswith()\n",
    "* join()\n"
   ]
  },
  {
   "cell_type": "markdown",
   "metadata": {
    "colab": {},
    "colab_type": "code",
    "id": "Aj_KU226f31G"
   },
   "source": [
    "# 문자열(string) split()"
   ]
  },
  {
   "cell_type": "code",
   "execution_count": 12,
   "metadata": {},
   "outputs": [],
   "source": [
    "s1 = 'aaa bbb ccc'\n",
    "s2 = 'AAA,BBB,CCC'"
   ]
  },
  {
   "cell_type": "code",
   "execution_count": 13,
   "metadata": {},
   "outputs": [
    {
     "data": {
      "text/plain": [
       "['aaa', 'bbb', 'ccc']"
      ]
     },
     "execution_count": 13,
     "metadata": {},
     "output_type": "execute_result"
    }
   ],
   "source": [
    "# split() 기본적(디폴트)으로 공백으로 분리하여, 분리된 문자열들의 list를 만든다.\n",
    "s1.split() "
   ]
  },
  {
   "cell_type": "code",
   "execution_count": 14,
   "metadata": {},
   "outputs": [
    {
     "data": {
      "text/plain": [
       "['AAA,BBB,CCC']"
      ]
     },
     "execution_count": 14,
     "metadata": {},
     "output_type": "execute_result"
    }
   ],
   "source": [
    "s2.split() # s2는 공백이 없으므로 전체가 한 개"
   ]
  },
  {
   "cell_type": "code",
   "execution_count": 15,
   "metadata": {},
   "outputs": [
    {
     "data": {
      "text/plain": [
       "['AAA', 'BBB', 'CCC']"
      ]
     },
     "execution_count": 15,
     "metadata": {},
     "output_type": "execute_result"
    }
   ],
   "source": [
    "s2.split(',') # s2를 콤마로 분리"
   ]
  },
  {
   "cell_type": "code",
   "execution_count": 16,
   "metadata": {},
   "outputs": [
    {
     "name": "stdout",
     "output_type": "stream",
     "text": [
      "aaa bbb ccc vs AAA BBB CCC\n",
      "AAA,BBB,CCC vs aaa,bbb,ccc\n"
     ]
    }
   ],
   "source": [
    "# 대소문자로 변환\n",
    "print(s1, 'vs', s1.upper())\n",
    "print(s2, 'vs', s2.lower())"
   ]
  },
  {
   "cell_type": "code",
   "execution_count": 17,
   "metadata": {},
   "outputs": [
    {
     "data": {
      "text/plain": [
       "True"
      ]
     },
     "execution_count": 17,
     "metadata": {},
     "output_type": "execute_result"
    }
   ],
   "source": [
    "# 'ccc'로 끝나는가?  - True/False 값\n",
    "s1.endswith('ccc')"
   ]
  },
  {
   "cell_type": "code",
   "execution_count": 18,
   "metadata": {},
   "outputs": [
    {
     "data": {
      "text/plain": [
       "False"
      ]
     },
     "execution_count": 18,
     "metadata": {},
     "output_type": "execute_result"
    }
   ],
   "source": [
    "# 'ccc'로 시작하는가?  - True/False 값\n",
    "s2.startswith('ccc')"
   ]
  },
  {
   "cell_type": "markdown",
   "metadata": {},
   "source": [
    "# join()\n",
    "* 여러 문자열을 '-'로 연결하여 하나의 문자열로 만들기\n",
    "* '-'.join(list_of_string)"
   ]
  },
  {
   "cell_type": "code",
   "execution_count": 19,
   "metadata": {},
   "outputs": [
    {
     "name": "stdout",
     "output_type": "stream",
     "text": [
      "['abc', 'def', 'ghi']\n"
     ]
    }
   ],
   "source": [
    "s = 'abc,def,ghi'\n",
    "flds = s.split(',')\n",
    "print(flds)"
   ]
  },
  {
   "cell_type": "code",
   "execution_count": 20,
   "metadata": {},
   "outputs": [
    {
     "name": "stdout",
     "output_type": "stream",
     "text": [
      "abc-def-ghi\n"
     ]
    }
   ],
   "source": [
    "s1 = '-'.join(flds)\n",
    "print(s1)\n"
   ]
  },
  {
   "cell_type": "code",
   "execution_count": 21,
   "metadata": {},
   "outputs": [
    {
     "name": "stdout",
     "output_type": "stream",
     "text": [
      "abc:def:ghi\n"
     ]
    }
   ],
   "source": [
    "s1 = ':'.join(flds)\n",
    "print(s1)"
   ]
  },
  {
   "cell_type": "code",
   "execution_count": 22,
   "metadata": {},
   "outputs": [
    {
     "name": "stdout",
     "output_type": "stream",
     "text": [
      "3.12\n",
      "3.123\n"
     ]
    }
   ],
   "source": [
    "a = 3.1234\n",
    "print('%.2f' % a) # 소숫점 2자리까지만 출력\n",
    "print('%.3f' % a) # 소숫점 3자리까지만 출력"
   ]
  },
  {
   "cell_type": "code",
   "execution_count": 23,
   "metadata": {},
   "outputs": [
    {
     "name": "stdout",
     "output_type": "stream",
     "text": [
      "1.23, 5.33, 6.23\n"
     ]
    }
   ],
   "source": [
    "# 여러 숫자를 소수점 2자리까지만 출력하게\n",
    "vlist = [1.234, 5.332342, 6.234324]\n",
    "p = ['%.2f' % v for v in vlist]\n",
    "s = ', '.join(p)\n",
    "print(s)"
   ]
  },
  {
   "cell_type": "code",
   "execution_count": 24,
   "metadata": {},
   "outputs": [
    {
     "name": "stdout",
     "output_type": "stream",
     "text": [
      "1.23; 5.33; 6.23\n"
     ]
    }
   ],
   "source": [
    "s = '; '.join(p)\n",
    "print(s)"
   ]
  },
  {
   "cell_type": "code",
   "execution_count": null,
   "metadata": {},
   "outputs": [],
   "source": []
  }
 ],
 "metadata": {
  "colab": {
   "collapsed_sections": [],
   "name": "0.python_basic.ipynb",
   "provenance": [],
   "version": "0.3.2"
  },
  "kernelspec": {
   "display_name": "Python 3",
   "language": "python",
   "name": "python3"
  },
  "language_info": {
   "codemirror_mode": {
    "name": "ipython",
    "version": 3
   },
   "file_extension": ".py",
   "mimetype": "text/x-python",
   "name": "python",
   "nbconvert_exporter": "python",
   "pygments_lexer": "ipython3",
   "version": "3.7.3"
  },
  "toc": {
   "base_numbering": 1,
   "nav_menu": {},
   "number_sections": true,
   "sideBar": true,
   "skip_h1_title": false,
   "title_cell": "Table of Contents",
   "title_sidebar": "Contents",
   "toc_cell": false,
   "toc_position": {},
   "toc_section_display": true,
   "toc_window_display": false
  }
 },
 "nbformat": 4,
 "nbformat_minor": 1
}
