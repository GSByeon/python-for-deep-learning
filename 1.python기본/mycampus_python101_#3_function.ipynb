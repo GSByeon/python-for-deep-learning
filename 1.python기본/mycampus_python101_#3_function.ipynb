{
 "cells": [
  {
   "cell_type": "markdown",
   "metadata": {},
   "source": [
    "#  딥러닝 프로그래밍 빠르게 배우기 (마이캠퍼스)\n",
    "## https://pg.mycampus.io/?idx=97\n",
    "\n",
    "* 질문/문의: 마이캠퍼스 한대희 , daehee@mycampus.io, 010-2101-0255"
   ]
  },
  {
   "cell_type": "markdown",
   "metadata": {},
   "source": [
    "## 이 파일의 목차 \n",
    "* function\n",
    "* lambda\n",
    "* unpacking"
   ]
  },
  {
   "cell_type": "markdown",
   "metadata": {},
   "source": [
    "# int(), float(), list(), dict() -- 클래스 객체의 기본값"
   ]
  },
  {
   "cell_type": "code",
   "execution_count": 1,
   "metadata": {},
   "outputs": [
    {
     "data": {
      "text/plain": [
       "0.0"
      ]
     },
     "execution_count": 1,
     "metadata": {},
     "output_type": "execute_result"
    }
   ],
   "source": [
    "float()"
   ]
  },
  {
   "cell_type": "code",
   "execution_count": 2,
   "metadata": {},
   "outputs": [
    {
     "data": {
      "text/plain": [
       "0"
      ]
     },
     "execution_count": 2,
     "metadata": {},
     "output_type": "execute_result"
    }
   ],
   "source": [
    "int()"
   ]
  },
  {
   "cell_type": "code",
   "execution_count": 3,
   "metadata": {},
   "outputs": [
    {
     "data": {
      "text/plain": [
       "[]"
      ]
     },
     "execution_count": 3,
     "metadata": {},
     "output_type": "execute_result"
    }
   ],
   "source": [
    "list( )"
   ]
  },
  {
   "cell_type": "code",
   "execution_count": 4,
   "metadata": {},
   "outputs": [
    {
     "data": {
      "text/plain": [
       "{}"
      ]
     },
     "execution_count": 4,
     "metadata": {},
     "output_type": "execute_result"
    }
   ],
   "source": [
    "dict()"
   ]
  },
  {
   "cell_type": "markdown",
   "metadata": {},
   "source": [
    "# 함수 정의 \n",
    "* def 이용\n",
    "* lambda 이용"
   ]
  },
  {
   "cell_type": "markdown",
   "metadata": {},
   "source": [
    "## def 이용하여 함수 정의"
   ]
  },
  {
   "cell_type": "code",
   "execution_count": 5,
   "metadata": {},
   "outputs": [
    {
     "name": "stdout",
     "output_type": "stream",
     "text": [
      "81\n"
     ]
    }
   ],
   "source": [
    "def square(x):\n",
    "  return x*x\n",
    "\n",
    "print(square(9))"
   ]
  },
  {
   "cell_type": "code",
   "execution_count": 6,
   "metadata": {},
   "outputs": [
    {
     "name": "stdout",
     "output_type": "stream",
     "text": [
      "[1, 4, 9, 25, 100]\n"
     ]
    }
   ],
   "source": [
    "a = [1,2,3,5,10]\n",
    "b =  list(map(square, a))\n",
    "print(b)"
   ]
  },
  {
   "cell_type": "markdown",
   "metadata": {},
   "source": [
    "## lambda 로 익명 함수 정의: anonymous\n",
    "* inline, anonymous function ===> lambda\n"
   ]
  },
  {
   "cell_type": "code",
   "execution_count": 7,
   "metadata": {},
   "outputs": [
    {
     "name": "stdout",
     "output_type": "stream",
     "text": [
      "square of 5 = 25\n",
      "square of 10 = 100\n"
     ]
    }
   ],
   "source": [
    "myfunc = lambda x: x*x\n",
    "print('square of 5 =', myfunc(5))\n",
    "print('square of 10 =', myfunc(10))"
   ]
  },
  {
   "cell_type": "markdown",
   "metadata": {},
   "source": [
    "## lambda 활용"
   ]
  },
  {
   "cell_type": "code",
   "execution_count": 8,
   "metadata": {},
   "outputs": [
    {
     "name": "stdout",
     "output_type": "stream",
     "text": [
      "[1, 4, 9, 25, 100]\n",
      "[5, 10]\n"
     ]
    }
   ],
   "source": [
    "# inline, anonymous function ===> lambda\n",
    "a = [1,2,3,5,10]\n",
    "b =  list(map(lambda x: x*x, a))\n",
    "print(b)\n",
    "\n",
    "\n",
    "# 조건을 지정하기. 20보다 큰 것만 필터링\n",
    "b = list(filter(lambda y: y > 3, a))\n",
    "print(b)\n",
    "\n"
   ]
  },
  {
   "cell_type": "code",
   "execution_count": 9,
   "metadata": {},
   "outputs": [
    {
     "name": "stdout",
     "output_type": "stream",
     "text": [
      "{}\n",
      "[]\n"
     ]
    }
   ],
   "source": [
    "# 함수를 인자(파라미터)로 받아서 실행하기\n",
    "def exec_func(f): # f는 주어진 함수, 또는 클래스\n",
    "    res = f()\n",
    "    print(res)\n",
    "\n",
    "exec_func(dict)\n",
    "exec_func(list)"
   ]
  },
  {
   "cell_type": "markdown",
   "metadata": {},
   "source": [
    "## 함수에서 여러 값을 리턴(return)하기가 가능하다. 리턴값은 tuple"
   ]
  },
  {
   "cell_type": "code",
   "execution_count": 10,
   "metadata": {},
   "outputs": [
    {
     "name": "stdout",
     "output_type": "stream",
     "text": [
      "(17, 70)\n",
      "a[0] 17\n",
      "a[1] 70\n"
     ]
    }
   ],
   "source": [
    "# python 에서는 여러값을 리턴할 수 있다.\n",
    "# 여러값을 콤마(,)로 구분하며, 이 여러값은 하나의 튜플(tuple)이 된다.\n",
    "def sum_mul(x,y): # 덧셈과 곱셈을 한 번에 해주는 함수\n",
    "    return x+y, x*y\n",
    "\n",
    "a = sum_mul(10,7)\n",
    "print(a)\n",
    "print('a[0]', a[0])\n",
    "print('a[1]', a[1])"
   ]
  },
  {
   "cell_type": "code",
   "execution_count": 11,
   "metadata": {},
   "outputs": [
    {
     "name": "stdout",
     "output_type": "stream",
     "text": [
      "17\n",
      "70\n"
     ]
    }
   ],
   "source": [
    "s, m = sum_mul(10,7) # 리턴값을 unpacking\n",
    "print(s)\n",
    "print(m)"
   ]
  },
  {
   "cell_type": "markdown",
   "metadata": {},
   "source": [
    "# unpacking\n",
    "* tuple, list 데이터를 원소(element)의 개수만큼 분리하는 것 !"
   ]
  },
  {
   "cell_type": "code",
   "execution_count": 12,
   "metadata": {},
   "outputs": [
    {
     "name": "stdout",
     "output_type": "stream",
     "text": [
      "2 1\n"
     ]
    }
   ],
   "source": [
    "x, y = 1, 2 # now x is 1, y is 2\n",
    "x, y = y, x\n",
    "print (x, y)"
   ]
  },
  {
   "cell_type": "code",
   "execution_count": 13,
   "metadata": {},
   "outputs": [
    {
     "name": "stdout",
     "output_type": "stream",
     "text": [
      "x= 10 y= 20\n"
     ]
    }
   ],
   "source": [
    "pos = (10, 20)\n",
    "# 이것이 unpacking. pos는 하나의 값(튜플). 이것이 x, y로 분리\n",
    "x, y = pos \n",
    "print('x=', x, 'y=', y)"
   ]
  },
  {
   "cell_type": "code",
   "execution_count": 14,
   "metadata": {},
   "outputs": [
    {
     "name": "stdout",
     "output_type": "stream",
     "text": [
      "x= 10 y= 20 z= 30\n"
     ]
    }
   ],
   "source": [
    "pos = (10, 20,30)\n",
    "x, y, z = pos\n",
    "print('x=', x, 'y=', y, 'z=', z)"
   ]
  },
  {
   "cell_type": "code",
   "execution_count": 15,
   "metadata": {},
   "outputs": [
    {
     "name": "stdout",
     "output_type": "stream",
     "text": [
      "x= 100 y= 200 z= 300\n"
     ]
    }
   ],
   "source": [
    "data = [100, 200, 300]\n",
    "# 이것이 unpacking. data는  하나의 값(리스트). 이것이 x, y, z로 분리\n",
    "x, y, z = data\n",
    "print('x=', x, 'y=', y, 'z=', z)"
   ]
  }
 ],
 "metadata": {
  "kernelspec": {
   "display_name": "Python 3",
   "language": "python",
   "name": "python3"
  },
  "language_info": {
   "codemirror_mode": {
    "name": "ipython",
    "version": 3
   },
   "file_extension": ".py",
   "mimetype": "text/x-python",
   "name": "python",
   "nbconvert_exporter": "python",
   "pygments_lexer": "ipython3",
   "version": "3.7.3"
  },
  "toc": {
   "base_numbering": 1,
   "nav_menu": {},
   "number_sections": true,
   "sideBar": true,
   "skip_h1_title": false,
   "title_cell": "Table of Contents",
   "title_sidebar": "Contents",
   "toc_cell": false,
   "toc_position": {},
   "toc_section_display": true,
   "toc_window_display": false
  }
 },
 "nbformat": 4,
 "nbformat_minor": 1
}
