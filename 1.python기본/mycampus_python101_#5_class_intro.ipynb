{
 "cells": [
  {
   "cell_type": "markdown",
   "metadata": {},
   "source": [
    "#  딥러닝 프로그래밍 빠르게 배우기 (마이캠퍼스)\n",
    "## https://pg.mycampus.io/?idx=97\n",
    "\n",
    "* 질문/문의: 마이캠퍼스 한대희 , daehee@mycampus.io, 010-2101-0255\n",
    "\n",
    "## 클래스 개념 배우기"
   ]
  },
  {
   "cell_type": "markdown",
   "metadata": {},
   "source": [
    "### list, int, float 도 클래스이다\n",
    "list(), int(), float()를 실행하면 각 클래스의 객체가 생성되는 것이다."
   ]
  },
  {
   "cell_type": "code",
   "execution_count": 2,
   "metadata": {},
   "outputs": [
    {
     "name": "stdout",
     "output_type": "stream",
     "text": [
      "A1: 77 A2: 77 A3: 0\n"
     ]
    }
   ],
   "source": [
    "# int 클래스의 객체 만드는 방법\n",
    "A1 = 77\n",
    "A2 = int('77')\n",
    "A3 = int() # 빈칸 - 디폴트값 0 (zero)가 된다\n",
    "print('A1:', A1, 'A2:', A2, 'A3:', A3)"
   ]
  },
  {
   "cell_type": "code",
   "execution_count": 3,
   "metadata": {},
   "outputs": [
    {
     "name": "stdout",
     "output_type": "stream",
     "text": [
      "A1: 3.4 A2: 3.4 A3: 0.0\n"
     ]
    }
   ],
   "source": [
    "# float 클래스의 객체 만드는 방법\n",
    "A1 = 3.4\n",
    "A2 = float('3.4')\n",
    "A3 = float()\n",
    "print('A1:', A1, 'A2:', A2, 'A3:', A3)"
   ]
  },
  {
   "cell_type": "code",
   "execution_count": 4,
   "metadata": {},
   "outputs": [
    {
     "name": "stdout",
     "output_type": "stream",
     "text": [
      "A1: [0, 1, 2, 3] A2: [0, 1, 2, 3] A3: []\n"
     ]
    }
   ],
   "source": [
    "# list 클래스의 객체 만드는 방법\n",
    "A1 = [0,1,2,3]\n",
    "A2 = list(range(4))\n",
    "A3 = list()\n",
    "print('A1:', A1, 'A2:', A2, 'A3:', A3)"
   ]
  },
  {
   "cell_type": "markdown",
   "metadata": {},
   "source": [
    "### 클래스(class), 객체(object) 의미\n",
    "* A: 이번에 새로 나온 소나타가  연비가 좋아졌대.\n",
    "* B: 오, 그래!\n",
    "* A: 근데, 우리 옆집 아저씨가 새 소나타를 주차장에서 긁었데~ 헐~\n",
    "\n",
    "여기서 '새로 나온 소나타'는 소나타 라는 차종으로 클래스(class)에 해당.\n",
    "\n",
    "'옆집 아저씨 소나타'는 소나타 라는 차종 중에 아저씨가 소유한 실제 차량으로 객체(object)에 해당.\n",
    "\n",
    "객체는 클래스의 instance(사례) 라고 한다. \n"
   ]
  },
  {
   "cell_type": "markdown",
   "metadata": {},
   "source": [
    "### 나의 클래스 만들기"
   ]
  },
  {
   "cell_type": "code",
   "execution_count": 5,
   "metadata": {},
   "outputs": [
    {
     "name": "stdout",
     "output_type": "stream",
     "text": [
      "No name\n"
     ]
    }
   ],
   "source": [
    "class Car(object):\n",
    "    def __init__(self):\n",
    "        self.name = 'No name'\n",
    "\n",
    "    def hasWing(self): # 날개가 있니?\n",
    "        return False\n",
    "    \n",
    "    def maxSpeed(self):\n",
    "        return 'Unknown'\n",
    "    \n",
    "    def prn(self):\n",
    "        print(self.name)\n",
    "        \n",
    "c1 = Car() # construct\n",
    "c1.prn()\n",
    "\n",
    "\n"
   ]
  },
  {
   "cell_type": "code",
   "execution_count": 6,
   "metadata": {},
   "outputs": [
    {
     "name": "stdout",
     "output_type": "stream",
     "text": [
      "내 이름은 Sonata\n"
     ]
    }
   ],
   "source": [
    "class Sonata(Car):\n",
    "    def __init__(self):\n",
    "        self.name = 'Sonata'\n",
    "        \n",
    "    def prn(self): # 새로 정의. overriding\n",
    "        print('내 이름은', self.name)\n",
    "        \n",
    "    def maxSpeed(self):\n",
    "        return 160    \n",
    "\n",
    "s1 = Sonata()\n",
    "s1.prn()"
   ]
  },
  {
   "cell_type": "code",
   "execution_count": 7,
   "metadata": {},
   "outputs": [
    {
     "name": "stdout",
     "output_type": "stream",
     "text": [
      "내 이름은 붕붕\n"
     ]
    }
   ],
   "source": [
    "class Boong(Car):\n",
    "    def __init__(self):\n",
    "        self.name = '붕붕'\n",
    "        \n",
    "    def prn(self): # 새로 정의. overriding\n",
    "        print('내 이름은', self.name)\n",
    "    \n",
    "    def hasWing(self):\n",
    "        return True\n",
    "    \n",
    "    def maxSpeed(self):\n",
    "        return 400    \n",
    "\n",
    "b1 = Boong()\n",
    "b1.prn()"
   ]
  },
  {
   "cell_type": "code",
   "execution_count": 8,
   "metadata": {},
   "outputs": [],
   "source": [
    "class CarInspector(object):\n",
    "    def __init__(self):\n",
    "        self.name = '나는 검사자'\n",
    "    def run(self, car):\n",
    "        # car는 Car 클래스의 객체라고 가정.\n",
    "        # run을 부르는 측에서 Car 객체를 넣어야 함.\n",
    "        print('%s 최대속도: %s' % (car.name,  car.maxSpeed() ))\n",
    "        if car.hasWing():\n",
    "            print('%s 는 날개가 있네요. 헐' % car.name)\n",
    "        else:\n",
    "            print('%s 는 날개가 없죠. 당근' % car.name)\n",
    "            \n",
    "    "
   ]
  },
  {
   "cell_type": "code",
   "execution_count": 9,
   "metadata": {},
   "outputs": [],
   "source": [
    "inspector = CarInspector()\n"
   ]
  },
  {
   "cell_type": "code",
   "execution_count": 10,
   "metadata": {},
   "outputs": [
    {
     "name": "stdout",
     "output_type": "stream",
     "text": [
      "No name 최대속도: Unknown\n",
      "No name 는 날개가 없죠. 당근\n"
     ]
    }
   ],
   "source": [
    "inspector.run(c1)"
   ]
  },
  {
   "cell_type": "code",
   "execution_count": 11,
   "metadata": {},
   "outputs": [
    {
     "name": "stdout",
     "output_type": "stream",
     "text": [
      "Sonata 최대속도: 160\n",
      "Sonata 는 날개가 없죠. 당근\n"
     ]
    }
   ],
   "source": [
    "inspector.run(s1)"
   ]
  },
  {
   "cell_type": "code",
   "execution_count": 12,
   "metadata": {},
   "outputs": [
    {
     "name": "stdout",
     "output_type": "stream",
     "text": [
      "붕붕 최대속도: 400\n",
      "붕붕 는 날개가 있네요. 헐\n"
     ]
    }
   ],
   "source": [
    "inspector.run(b1)"
   ]
  },
  {
   "cell_type": "code",
   "execution_count": null,
   "metadata": {},
   "outputs": [],
   "source": []
  }
 ],
 "metadata": {
  "kernelspec": {
   "display_name": "Python 3",
   "language": "python",
   "name": "python3"
  },
  "language_info": {
   "codemirror_mode": {
    "name": "ipython",
    "version": 3
   },
   "file_extension": ".py",
   "mimetype": "text/x-python",
   "name": "python",
   "nbconvert_exporter": "python",
   "pygments_lexer": "ipython3",
   "version": "3.7.3"
  },
  "toc": {
   "base_numbering": 1,
   "nav_menu": {},
   "number_sections": true,
   "sideBar": true,
   "skip_h1_title": false,
   "title_cell": "Table of Contents",
   "title_sidebar": "Contents",
   "toc_cell": false,
   "toc_position": {},
   "toc_section_display": true,
   "toc_window_display": false
  }
 },
 "nbformat": 4,
 "nbformat_minor": 2
}
