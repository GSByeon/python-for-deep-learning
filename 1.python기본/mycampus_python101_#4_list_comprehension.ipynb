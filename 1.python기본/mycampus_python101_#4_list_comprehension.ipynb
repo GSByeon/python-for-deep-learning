{
 "cells": [
  {
   "cell_type": "markdown",
   "metadata": {},
   "source": [
    "#  딥러닝 프로그래밍 빠르게 배우기 (마이캠퍼스)\n",
    "## https://pg.mycampus.io/?idx=97\n",
    "\n",
    "* 질문/문의: 마이캠퍼스 한대희 , daehee@mycampus.io, 010-2101-0255\n",
    "\n",
    "## 목차: list comprehension - 이것을 알아야 진짜 파이썬이죠 :)\n",
    "* sort(), sorted()\n",
    "* zip()\n",
    "* enumerate()\n",
    "* list comprehension "
   ]
  },
  {
   "cell_type": "markdown",
   "metadata": {},
   "source": [
    "# sort(), sorted() 차이"
   ]
  },
  {
   "cell_type": "code",
   "execution_count": 2,
   "metadata": {},
   "outputs": [
    {
     "name": "stdout",
     "output_type": "stream",
     "text": [
      "[2, 5, 6, 9]\n"
     ]
    }
   ],
   "source": [
    "a = [9,5,6,2]\n",
    "a.sort()  # a의 내용 자체가 소팅된다.\n",
    "print(a)"
   ]
  },
  {
   "cell_type": "code",
   "execution_count": 7,
   "metadata": {},
   "outputs": [
    {
     "name": "stdout",
     "output_type": "stream",
     "text": [
      "[9, 5, 6, 2]\n"
     ]
    }
   ],
   "source": [
    "b = [9,5,6,2]\n",
    "sorted(b)\n",
    "print(b) # 헐, b는 변하지 않았다. 왜 ?"
   ]
  },
  {
   "cell_type": "code",
   "execution_count": 8,
   "metadata": {},
   "outputs": [
    {
     "name": "stdout",
     "output_type": "stream",
     "text": [
      "[2, 5, 6, 9]\n"
     ]
    }
   ],
   "source": [
    "c = sorted(b)\n",
    "print(c)\n",
    "# sorted()의 결과를 변수로 저장해야지만 된다."
   ]
  },
  {
   "cell_type": "markdown",
   "metadata": {},
   "source": [
    "# zip()"
   ]
  },
  {
   "cell_type": "code",
   "execution_count": 17,
   "metadata": {},
   "outputs": [
    {
     "data": {
      "text/plain": [
       "[(1, 4), (2, 5), (3, 6)]"
      ]
     },
     "execution_count": 17,
     "metadata": {},
     "output_type": "execute_result"
    }
   ],
   "source": [
    "a=[1,2,3]\n",
    "b=[4,5,6]\n",
    "list(zip(a, b))"
   ]
  },
  {
   "cell_type": "code",
   "execution_count": 18,
   "metadata": {},
   "outputs": [
    {
     "name": "stdout",
     "output_type": "stream",
     "text": [
      "1 4\n",
      "2 5\n",
      "3 6\n"
     ]
    }
   ],
   "source": [
    "for x,y in zip(a,b):    \n",
    "    print(x,y)"
   ]
  },
  {
   "attachments": {},
   "cell_type": "markdown",
   "metadata": {},
   "source": [
    "# enumerate()"
   ]
  },
  {
   "cell_type": "code",
   "execution_count": 22,
   "metadata": {},
   "outputs": [
    {
     "name": "stdout",
     "output_type": "stream",
     "text": [
      "4\n",
      "5\n",
      "6\n"
     ]
    }
   ],
   "source": [
    "xlist = [4,5,6]\n",
    "for  x in xlist:    \n",
    "    print(x)"
   ]
  },
  {
   "cell_type": "code",
   "execution_count": 24,
   "metadata": {},
   "outputs": [
    {
     "name": "stdout",
     "output_type": "stream",
     "text": [
      "[0] 4\n",
      "[1] 5\n",
      "[2] 6\n"
     ]
    }
   ],
   "source": [
    "xlist = [4,5,6]\n",
    "i = 0\n",
    "for x in xlist:    \n",
    "    print('[%d]'% i, x) # 번호를 매기고 싶다\n",
    "    i = i + 1"
   ]
  },
  {
   "cell_type": "code",
   "execution_count": 25,
   "metadata": {},
   "outputs": [
    {
     "name": "stdout",
     "output_type": "stream",
     "text": [
      "[00]  4\n",
      "[01]  5\n",
      "[02]  6\n"
     ]
    }
   ],
   "source": [
    "xlist = [4,5,6]\n",
    "# 번호를 매기기를 간단하게 구현\n",
    "for  i, x in enumerate(xlist):    \n",
    "    print('[%02d]  %d' % (i, x))"
   ]
  },
  {
   "cell_type": "markdown",
   "metadata": {},
   "source": [
    "# list comprehension\n",
    "* list comprehension : list 안에 for loop를 이용하여 새로운 list를 만드는 것"
   ]
  },
  {
   "cell_type": "code",
   "execution_count": 9,
   "metadata": {},
   "outputs": [
    {
     "name": "stdout",
     "output_type": "stream",
     "text": [
      "[0, 1, 4, 9, 16, 25, 36, 49, 64, 81]\n"
     ]
    }
   ],
   "source": [
    "a = [ x*x for x in range(10)]\n",
    "print(a)"
   ]
  },
  {
   "cell_type": "code",
   "execution_count": 11,
   "metadata": {},
   "outputs": [
    {
     "name": "stdout",
     "output_type": "stream",
     "text": [
      "[1, 81, 625, 2401, 6561]\n"
     ]
    }
   ],
   "source": [
    "# 끝에 if 문을 넣어서 필터링도 가능하다\n",
    "b = [ x*x for x in a if x%2 == 1] # 홀수만\n",
    "print(b)"
   ]
  },
  {
   "cell_type": "code",
   "execution_count": 12,
   "metadata": {},
   "outputs": [
    {
     "name": "stdout",
     "output_type": "stream",
     "text": [
      "[0, 16, 256, 1296, 4096]\n"
     ]
    }
   ],
   "source": [
    "c = [ x*x for x in a if x%2 == 0] # 짝수만\n",
    "print(c)"
   ]
  },
  {
   "cell_type": "markdown",
   "metadata": {},
   "source": [
    "## 1차 함수 식으로 데이터를 생성해보자"
   ]
  },
  {
   "cell_type": "code",
   "execution_count": 16,
   "metadata": {},
   "outputs": [
    {
     "name": "stdout",
     "output_type": "stream",
     "text": [
      "[0, 2, 4, 6, 8, 10, 12, 14, 16, 18]\n",
      "[1, 5, 9, 13, 17, 21, 25, 29, 33, 37]\n"
     ]
    }
   ],
   "source": [
    "X = [i*2 for i in range(10)]   \n",
    "Y = [x*2 + 1  for x in  X]\n",
    "print(X)\n",
    "print(Y)"
   ]
  },
  {
   "cell_type": "code",
   "execution_count": null,
   "metadata": {},
   "outputs": [],
   "source": []
  }
 ],
 "metadata": {
  "kernelspec": {
   "display_name": "Python 3",
   "language": "python",
   "name": "python3"
  },
  "language_info": {
   "codemirror_mode": {
    "name": "ipython",
    "version": 3
   },
   "file_extension": ".py",
   "mimetype": "text/x-python",
   "name": "python",
   "nbconvert_exporter": "python",
   "pygments_lexer": "ipython3",
   "version": "3.7.3"
  },
  "toc": {
   "base_numbering": 1,
   "nav_menu": {},
   "number_sections": true,
   "sideBar": true,
   "skip_h1_title": false,
   "title_cell": "Table of Contents",
   "title_sidebar": "Contents",
   "toc_cell": false,
   "toc_position": {},
   "toc_section_display": true,
   "toc_window_display": false
  }
 },
 "nbformat": 4,
 "nbformat_minor": 2
}
