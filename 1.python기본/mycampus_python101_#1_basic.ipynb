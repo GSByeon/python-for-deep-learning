{
 "cells": [
  {
   "cell_type": "markdown",
   "metadata": {
    "colab_type": "text",
    "id": "hH4LfqPIIn9N"
   },
   "source": [
    "#  딥러닝 프로그래밍 빠르게 배우기 (마이캠퍼스)\n",
    "## https://pg.mycampus.io/?idx=97\n",
    "\n",
    "* 질문/문의: 마이캠퍼스 한대희 , daehee@mycampus.io, 010-2101-0255\n",
    "\n",
    "## 이 파일의 목차 \n",
    "* int, float 숫자\n",
    "* string 문자열\n",
    "* list 리스트\n",
    "* tuple 튜플\n",
    "* list 인텍스, 슬라이스(slice)\n",
    "* range()\n",
    "* for 루프\n",
    "* 문자열 함수"
   ]
  },
  {
   "cell_type": "markdown",
   "metadata": {
    "colab_type": "text",
    "id": "0B38R2tRf5KQ"
   },
   "source": [
    "# 숫자, 계산"
   ]
  },
  {
   "cell_type": "code",
   "execution_count": 1,
   "metadata": {
    "colab": {
     "base_uri": "https://localhost:8080/",
     "height": 34
    },
    "colab_type": "code",
    "id": "xY2omj5uf28j",
    "outputId": "7bae8ad1-fab5-4d76-b09a-32d350beae9d"
   },
   "outputs": [],
   "source": [
    "10 + 20"
   ]
  },
  {
   "cell_type": "code",
   "execution_count": 2,
   "metadata": {
    "colab": {
     "base_uri": "https://localhost:8080/",
     "height": 34
    },
    "colab_type": "code",
    "id": "H6hzLmbKf4pL",
    "outputId": "f728e17b-7cfa-4683-fbe4-ef4054286cc4"
   },
   "outputs": [],
   "source": [
    "(2+3) * 10"
   ]
  },
  {
   "cell_type": "code",
   "execution_count": 3,
   "metadata": {
    "colab": {
     "base_uri": "https://localhost:8080/",
     "height": 34
    },
    "colab_type": "code",
    "id": "TeM_yQqJgEnS",
    "outputId": "8d8872b6-408a-41d7-fe7b-3a7709fe9f91"
   },
   "outputs": [],
   "source": [
    "# 변수: 값을 저장하는 방(메모리). 그 방의 이름\n",
    "a = 2\n",
    "b = 3\n",
    "c = 10\n",
    "c * (a+b)"
   ]
  },
  {
   "cell_type": "code",
   "execution_count": 4,
   "metadata": {
    "colab": {
     "base_uri": "https://localhost:8080/",
     "height": 34
    },
    "colab_type": "code",
    "id": "CYaKZERcgXCM",
    "outputId": "9e5ac326-7ebb-4554-906f-83413103a8d1"
   },
   "outputs": [],
   "source": [
    "a = 1.5  # 실수 (소수점이 있는 수)\n",
    "b = 3    # 정수 (소수점이 없는 수)\n",
    "a*b"
   ]
  },
  {
   "cell_type": "markdown",
   "metadata": {
    "colab_type": "text",
    "id": "YVSBX552fxTm"
   },
   "source": [
    "# 문자열 (텍스트) 다루기"
   ]
  },
  {
   "cell_type": "code",
   "execution_count": 5,
   "metadata": {
    "colab": {
     "base_uri": "https://localhost:8080/",
     "height": 50
    },
    "colab_type": "code",
    "id": "xmQmrs7LggWT",
    "outputId": "331702ca-51ea-413c-a60b-47c069f3ae8b"
   },
   "outputs": [],
   "source": [
    "# 문자열(텍스트) 표시에 큰따옴표, 작은따옴표 모두 가능\n",
    "print('hello 1') # 큰따옴표\n",
    "print(\"hello 2\") # 작은따옴표"
   ]
  },
  {
   "cell_type": "code",
   "execution_count": 6,
   "metadata": {
    "colab": {
     "base_uri": "https://localhost:8080/",
     "height": 50
    },
    "colab_type": "code",
    "id": "ajBt6h3Ee-Xj",
    "outputId": "81ede2d6-3466-40a1-f99c-263400479fc3"
   },
   "outputs": [],
   "source": [
    "# 따옴표 연속 3개 - 여러 라인의 문자열 가능함.\n",
    "print('''Hello \n",
    "         World 1''')"
   ]
  },
  {
   "cell_type": "code",
   "execution_count": 7,
   "metadata": {
    "colab": {
     "base_uri": "https://localhost:8080/",
     "height": 50
    },
    "colab_type": "code",
    "id": "4pjyqfwqfTaW",
    "outputId": "59b51aea-a00f-4799-dcb7-95fe68ee4ec4"
   },
   "outputs": [
    {
     "name": "stdout",
     "output_type": "stream",
     "text": [
      "Hello \n",
      "         World 2\n"
     ]
    }
   ],
   "source": [
    "# 따옴표 연속 3개 - 여러 라인의 문자열 가능함.\n",
    "print(\"\"\"Hello \n",
    "         World 2\"\"\")"
   ]
  },
  {
   "cell_type": "code",
   "execution_count": 8,
   "metadata": {
    "colab": {
     "base_uri": "https://localhost:8080/",
     "height": 34
    },
    "colab_type": "code",
    "id": "pz_wZBdjesjx",
    "outputId": "ab468d78-c80b-436a-8838-f620f0d96a3d"
   },
   "outputs": [
    {
     "name": "stdout",
     "output_type": "stream",
     "text": [
      "hello\n"
     ]
    }
   ],
   "source": [
    "# 변수: 데이터를 어떤 방(메모리)에 저장하고, 그 방이름을 정함.\n",
    "a = 'hello'\n",
    "print(a) "
   ]
  },
  {
   "cell_type": "markdown",
   "metadata": {
    "colab_type": "text",
    "id": "1GsP9UvzguDL"
   },
   "source": [
    "# 여러 개의 값을 저장하기  -- list (리스트)와 tuple(튜플)"
   ]
  },
  {
   "cell_type": "code",
   "execution_count": 9,
   "metadata": {
    "colab": {},
    "colab_type": "code",
    "id": "oK2EeGsHhMCX"
   },
   "outputs": [],
   "source": [
    "a = [10, 20, 30] # list: []\n",
    "b = (10, 20, 30) # tuple: ()  \n"
   ]
  },
  {
   "cell_type": "code",
   "execution_count": 10,
   "metadata": {
    "colab": {
     "base_uri": "https://localhost:8080/",
     "height": 50
    },
    "colab_type": "code",
    "id": "gitl_sychcZY",
    "outputId": "9680fa24-dede-4abf-c2c3-52291d44c1f3"
   },
   "outputs": [
    {
     "name": "stdout",
     "output_type": "stream",
     "text": [
      "[10, 20, 30]\n",
      "(10, 20, 30)\n"
     ]
    }
   ],
   "source": [
    "print(a)\n",
    "print(b)"
   ]
  },
  {
   "cell_type": "code",
   "execution_count": 11,
   "metadata": {
    "colab": {
     "base_uri": "https://localhost:8080/",
     "height": 50
    },
    "colab_type": "code",
    "id": "kp7agvSDhfUt",
    "outputId": "1f126476-1a99-4d19-cc6a-490033885c14"
   },
   "outputs": [
    {
     "name": "stdout",
     "output_type": "stream",
     "text": [
      "<class 'list'>\n",
      "<class 'tuple'>\n"
     ]
    }
   ],
   "source": [
    "print(type(a)) # 데이터의 타입을 알아보기\n",
    "print(type(b)) # 데이터의 타입을 알아보기"
   ]
  },
  {
   "cell_type": "code",
   "execution_count": 12,
   "metadata": {
    "colab": {
     "base_uri": "https://localhost:8080/",
     "height": 50
    },
    "colab_type": "code",
    "id": "nFKKp9YPiBxS",
    "outputId": "0f8ccc9e-d0dc-4fc9-c19c-522c5e38e435"
   },
   "outputs": [
    {
     "name": "stdout",
     "output_type": "stream",
     "text": [
      "[10, 20, 30, 10, 20, 30]\n",
      "(10, 20, 30, 10, 20, 30)\n"
     ]
    }
   ],
   "source": [
    "print(a*2) # 원소 개수가 2배로 \n",
    "print(b*2) # 원소 개수가 2배로 "
   ]
  },
  {
   "cell_type": "markdown",
   "metadata": {
    "colab": {},
    "colab_type": "code",
    "id": "184FHa3oiVYo"
   },
   "source": [
    "## list와 tuple 차이\n",
    "* tuple은 처음 생성될때의 데이터(원소, element)를 추가, 삭제할 수 없다.\n",
    "* list는 데이터(element)를 추가, 삭제할 수 있다."
   ]
  },
  {
   "cell_type": "code",
   "execution_count": 13,
   "metadata": {},
   "outputs": [
    {
     "name": "stdout",
     "output_type": "stream",
     "text": [
      "[10, 20, 30, 40]\n"
     ]
    }
   ],
   "source": [
    "a.append(40)\n",
    "print(a)"
   ]
  },
  {
   "cell_type": "code",
   "execution_count": null,
   "metadata": {
    "colab": {},
    "colab_type": "code",
    "id": "8ko9MWBOes6I"
   },
   "outputs": [],
   "source": []
  },
  {
   "cell_type": "markdown",
   "metadata": {
    "colab_type": "text",
    "id": "dsW58P5nKEH6"
   },
   "source": [
    "# 데이터 생성하기\n"
   ]
  },
  {
   "cell_type": "markdown",
   "metadata": {
    "colab_type": "text",
    "id": "2Z7m_w9LKxLt"
   },
   "source": [
    "## integer (정수) --> int()"
   ]
  },
  {
   "cell_type": "code",
   "execution_count": 14,
   "metadata": {
    "colab": {
     "base_uri": "https://localhost:8080/",
     "height": 34
    },
    "colab_type": "code",
    "id": "KZ2MmUNuI1tr",
    "outputId": "ed175abd-0b7e-4ab0-b9ec-c68613f1fb65"
   },
   "outputs": [
    {
     "name": "stdout",
     "output_type": "stream",
     "text": [
      "A1: 77 A2: 77 A3: 0\n"
     ]
    }
   ],
   "source": [
    "A1 = 77\n",
    "A2 = int('77')\n",
    "A3 = int()\n",
    "print('A1:', A1, 'A2:', A2, 'A3:', A3)"
   ]
  },
  {
   "cell_type": "markdown",
   "metadata": {
    "colab_type": "text",
    "id": "HbuuOIT3K2gb"
   },
   "source": [
    "## real number (실수) --> float()"
   ]
  },
  {
   "cell_type": "code",
   "execution_count": 15,
   "metadata": {
    "colab": {
     "base_uri": "https://localhost:8080/",
     "height": 34
    },
    "colab_type": "code",
    "id": "rXrBJgdZKOyY",
    "outputId": "6f433d91-5238-4be8-cba3-adabded77ba6"
   },
   "outputs": [
    {
     "name": "stdout",
     "output_type": "stream",
     "text": [
      "A1: 3.4 A2: 3.4 A3: 0.0\n"
     ]
    }
   ],
   "source": [
    "A1 = 3.4\n",
    "A2 = float('3.4')\n",
    "A3 = float()\n",
    "print('A1:', A1, 'A2:', A2, 'A3:', A3)"
   ]
  },
  {
   "cell_type": "markdown",
   "metadata": {
    "colab_type": "text",
    "id": "sVXSNe4XLF5i"
   },
   "source": [
    "## list (목록) --> list(), [ ]"
   ]
  },
  {
   "cell_type": "code",
   "execution_count": 16,
   "metadata": {
    "colab": {
     "base_uri": "https://localhost:8080/",
     "height": 34
    },
    "colab_type": "code",
    "id": "u62tC77eKO2Q",
    "outputId": "03e03309-c766-4918-ffb6-9cf13513d254"
   },
   "outputs": [
    {
     "name": "stdout",
     "output_type": "stream",
     "text": [
      "A1: [0, 1, 2, 3] A2: [0, 1, 2, 3] A3: []\n"
     ]
    }
   ],
   "source": [
    "A1 = [0,1,2,3]\n",
    "A2 = list(range(4))\n",
    "A3 = list()\n",
    "print('A1:', A1, 'A2:', A2, 'A3:', A3)"
   ]
  },
  {
   "cell_type": "markdown",
   "metadata": {},
   "source": [
    "## list의 인덱스"
   ]
  },
  {
   "cell_type": "code",
   "execution_count": 17,
   "metadata": {},
   "outputs": [
    {
     "name": "stdout",
     "output_type": "stream",
     "text": [
      "0\n",
      "4\n",
      "[0, 1, 2, 3, 4, 5]\n",
      "5\n",
      "4\n"
     ]
    }
   ],
   "source": [
    " a = [0, 1, 2, 3, 4]\n",
    " print(a[0])   # 첫번째 방은 0번방. index는 0부터.\n",
    " print(a[-1])  # -1은 끝 \n",
    " a.append(5) # element를 제일 뒤에 하나 추가. \n",
    " print(a)\n",
    " print(a[-1])\n",
    " print(a[-2])  # 끝에서 두번째\n"
   ]
  },
  {
   "cell_type": "markdown",
   "metadata": {},
   "source": [
    "## list의 slice(콜론)"
   ]
  },
  {
   "cell_type": "code",
   "execution_count": 18,
   "metadata": {},
   "outputs": [
    {
     "name": "stdout",
     "output_type": "stream",
     "text": [
      "[1, 2]\n",
      "[0, 1, 2]\n",
      "[3, 4, 5]\n",
      "[0, 1, 2, 3, 4]\n",
      "[0, 1, 2, 3, 4, 5, 'hello']\n"
     ]
    }
   ],
   "source": [
    "# slice – 콜론(‘:’)으로 index의 start,end를 지정함. end는 포함하지 않음\n",
    "print(a[1:3]) # 1번index(2번방)에서 3번index직전까지 \n",
    "print(a[:3])   # start를 지정하지 않으면 처음부터.\n",
    "print(a[3:])   #  end를 지정하지 않으면 끝까지.\n",
    "print(a[:-1])  # 처음부터 끝 직전까지.\n",
    "a.append('hello')\n",
    "print(a)\n"
   ]
  },
  {
   "cell_type": "markdown",
   "metadata": {},
   "source": [
    "# python 기본 함수 중 sum(),  len()"
   ]
  },
  {
   "cell_type": "code",
   "execution_count": 19,
   "metadata": {},
   "outputs": [
    {
     "name": "stdout",
     "output_type": "stream",
     "text": [
      "15\n",
      "3\n",
      "5.0\n"
     ]
    }
   ],
   "source": [
    "a = [4, 5, 6]\n",
    "print(sum(a))   # 합계 구하기  15\n",
    "\n",
    "print(len(a))    # 리스트길이(갯수)  3\n",
    "print(sum(a)/len(a))    # 평균값(mean) 구하기\n",
    "\n"
   ]
  },
  {
   "cell_type": "markdown",
   "metadata": {
    "colab_type": "text",
    "id": "pDU12qbSNplm"
   },
   "source": [
    "# range()  사용법\n",
    "* range(숫자1) - 끝. 시작은 0.\n",
    "* range(숫자1, 숫자2) - 시작, 끝.\n",
    "* range(숫자1, 숫자2, 숫자3) - 시작, 끝, 스텝.\n",
    "* 주의할 점: 끝숫자는 포함하지 않는다. 끝 직전까지만. "
   ]
  },
  {
   "cell_type": "code",
   "execution_count": 20,
   "metadata": {
    "colab": {
     "base_uri": "https://localhost:8080/",
     "height": 67
    },
    "colab_type": "code",
    "id": "vuOO8o4RJMRS",
    "outputId": "8f132424-ab87-4878-fa61-293b2ff9d09c"
   },
   "outputs": [
    {
     "name": "stdout",
     "output_type": "stream",
     "text": [
      "[0, 1, 2, 3, 4]\n",
      "[1, 2, 3, 4]\n",
      "[1, 3]\n"
     ]
    }
   ],
   "source": [
    "print(list(range(5)))\n",
    "print(list(range(1, 5)))\n",
    "print(list(range(1, 5, 2)))"
   ]
  },
  {
   "cell_type": "code",
   "execution_count": 21,
   "metadata": {
    "colab": {
     "base_uri": "https://localhost:8080/",
     "height": 34
    },
    "colab_type": "code",
    "id": "e2qxBPK_OO8a",
    "outputId": "65180d35-7a0c-42fe-d7d1-e2ebae2f3236"
   },
   "outputs": [
    {
     "name": "stdout",
     "output_type": "stream",
     "text": [
      "[1, 3, 5]\n"
     ]
    }
   ],
   "source": [
    "# range(숫자1, 숫자2, 숫자3) - 시작, 끝, 스텝.\n",
    "# 주의할 점: 끝숫자는 포함하지 않는다. 끝 직전까지만. \n",
    "print(list(range(1, 6, 2)))"
   ]
  },
  {
   "cell_type": "markdown",
   "metadata": {
    "colab": {},
    "colab_type": "code",
    "id": "pO4QklH3f3uy"
   },
   "source": [
    "# 반복하기 == 루프, for 루프"
   ]
  },
  {
   "cell_type": "code",
   "execution_count": 22,
   "metadata": {},
   "outputs": [
    {
     "name": "stdout",
     "output_type": "stream",
     "text": [
      "0 Love\n",
      "1 Love\n",
      "2 Love\n",
      "3 Love\n",
      "4 Love\n"
     ]
    }
   ],
   "source": [
    "for i in range(5): # for 루프\n",
    "    print(i, 'Love') # for 라인 다음 라인 시작할 때 공백 2개 이상 주어야 함."
   ]
  },
  {
   "cell_type": "markdown",
   "metadata": {
    "colab": {},
    "colab_type": "code",
    "id": "Aj_KU226f31G"
   },
   "source": [
    "# 문자열(string) 관련 함수"
   ]
  },
  {
   "cell_type": "code",
   "execution_count": 23,
   "metadata": {},
   "outputs": [],
   "source": [
    "s1 = 'aaa bbb ccc'\n",
    "s2 = 'AAA,BBB,CCC'"
   ]
  },
  {
   "cell_type": "code",
   "execution_count": 24,
   "metadata": {},
   "outputs": [
    {
     "data": {
      "text/plain": [
       "['aaa', 'bbb', 'ccc']"
      ]
     },
     "execution_count": 24,
     "metadata": {},
     "output_type": "execute_result"
    }
   ],
   "source": [
    "# split() 기본적(디폴트)으로 공백으로 분리하여, 분리된 문자열들의 list를 만든다.\n",
    "s1.split() "
   ]
  },
  {
   "cell_type": "code",
   "execution_count": 25,
   "metadata": {},
   "outputs": [
    {
     "data": {
      "text/plain": [
       "['AAA,BBB,CCC']"
      ]
     },
     "execution_count": 25,
     "metadata": {},
     "output_type": "execute_result"
    }
   ],
   "source": [
    "s2.split() # s2는 공백이 없으므로 전체가 한 개"
   ]
  },
  {
   "cell_type": "code",
   "execution_count": 26,
   "metadata": {},
   "outputs": [
    {
     "data": {
      "text/plain": [
       "['AAA', 'BBB', 'CCC']"
      ]
     },
     "execution_count": 26,
     "metadata": {},
     "output_type": "execute_result"
    }
   ],
   "source": [
    "s2.split(',') # s2를 콤마로 분리"
   ]
  },
  {
   "cell_type": "code",
   "execution_count": 27,
   "metadata": {},
   "outputs": [
    {
     "name": "stdout",
     "output_type": "stream",
     "text": [
      "aaa bbb ccc vs AAA BBB CCC\n",
      "AAA,BBB,CCC vs aaa,bbb,ccc\n"
     ]
    }
   ],
   "source": [
    "# 대소문자로 변환\n",
    "print(s1, 'vs', s1.upper())\n",
    "print(s2, 'vs', s2.lower())"
   ]
  },
  {
   "cell_type": "code",
   "execution_count": 28,
   "metadata": {},
   "outputs": [
    {
     "data": {
      "text/plain": [
       "True"
      ]
     },
     "execution_count": 28,
     "metadata": {},
     "output_type": "execute_result"
    }
   ],
   "source": [
    "# 'ccc'로 끝나는가?  - True/False 값\n",
    "s1.endswith('ccc')"
   ]
  },
  {
   "cell_type": "code",
   "execution_count": 29,
   "metadata": {},
   "outputs": [
    {
     "data": {
      "text/plain": [
       "False"
      ]
     },
     "execution_count": 29,
     "metadata": {},
     "output_type": "execute_result"
    }
   ],
   "source": [
    "# 'ccc'로 시작하는가?  - True/False 값\n",
    "s2.startswith('ccc')"
   ]
  },
  {
   "cell_type": "code",
   "execution_count": null,
   "metadata": {},
   "outputs": [],
   "source": []
  }
 ],
 "metadata": {
  "colab": {
   "collapsed_sections": [],
   "name": "0.python_basic.ipynb",
   "provenance": [],
   "version": "0.3.2"
  },
  "kernelspec": {
   "display_name": "Python 3",
   "language": "python",
   "name": "python3"
  },
  "language_info": {
   "codemirror_mode": {
    "name": "ipython",
    "version": 3
   },
   "file_extension": ".py",
   "mimetype": "text/x-python",
   "name": "python",
   "nbconvert_exporter": "python",
   "pygments_lexer": "ipython3",
   "version": "3.7.3"
  },
  "toc": {
   "base_numbering": 1,
   "nav_menu": {},
   "number_sections": true,
   "sideBar": true,
   "skip_h1_title": false,
   "title_cell": "Table of Contents",
   "title_sidebar": "Contents",
   "toc_cell": false,
   "toc_position": {},
   "toc_section_display": true,
   "toc_window_display": false
  }
 },
 "nbformat": 4,
 "nbformat_minor": 1
}
